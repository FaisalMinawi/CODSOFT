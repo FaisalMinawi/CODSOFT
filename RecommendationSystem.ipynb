{
  "nbformat": 4,
  "nbformat_minor": 0,
  "metadata": {
    "colab": {
      "provenance": [],
      "authorship_tag": "ABX9TyOB2WeOzoByoiVKCuG/jWc+",
      "include_colab_link": true
    },
    "kernelspec": {
      "name": "python3",
      "display_name": "Python 3"
    },
    "language_info": {
      "name": "python"
    }
  },
  "cells": [
    {
      "cell_type": "markdown",
      "metadata": {
        "id": "view-in-github",
        "colab_type": "text"
      },
      "source": [
        "<a href=\"https://colab.research.google.com/github/FaisalMinawi/CODSOFT/blob/main/RecommendationSystem.ipynb\" target=\"_parent\"><img src=\"https://colab.research.google.com/assets/colab-badge.svg\" alt=\"Open In Colab\"/></a>"
      ]
    },
    {
      "cell_type": "code",
      "source": [
        "!pip install scikit-surprise"
      ],
      "metadata": {
        "colab": {
          "base_uri": "https://localhost:8080/"
        },
        "id": "YfROm4lqt6-r",
        "outputId": "4df903b0-fe35-4e53-b9df-e2d5c96b5283"
      },
      "execution_count": 47,
      "outputs": [
        {
          "output_type": "stream",
          "name": "stdout",
          "text": [
            "Requirement already satisfied: scikit-surprise in /usr/local/lib/python3.10/dist-packages (1.1.3)\n",
            "Requirement already satisfied: joblib>=1.0.0 in /usr/local/lib/python3.10/dist-packages (from scikit-surprise) (1.3.2)\n",
            "Requirement already satisfied: numpy>=1.17.3 in /usr/local/lib/python3.10/dist-packages (from scikit-surprise) (1.23.5)\n",
            "Requirement already satisfied: scipy>=1.3.2 in /usr/local/lib/python3.10/dist-packages (from scikit-surprise) (1.11.3)\n"
          ]
        }
      ]
    },
    {
      "cell_type": "code",
      "source": [
        "from surprise import Dataset, Reader, KNNBasic\n",
        "from surprise.model_selection import train_test_split\n",
        "from surprise import accuracy\n",
        "import csv\n",
        "import pandas as pd"
      ],
      "metadata": {
        "id": "sp47XSxyuBKh"
      },
      "execution_count": 48,
      "outputs": []
    },
    {
      "cell_type": "code",
      "source": [
        "# Specify the path to the ratings CSV file\n",
        "csv_file_path = 'ratings.csv'\n",
        "\n",
        "# Open the CSV file and skip the header row\n",
        "with open(csv_file_path, newline='') as csvfile:\n",
        "    csv_reader = csv.reader(csvfile)\n",
        "    next(csv_reader)  # Skip the header row\n",
        "    ratings_data = [row for row in csv_reader]\n",
        "\n",
        "# Define the reader with the correct format\n",
        "reader = Reader(line_format='user item rating timestamp', sep=',', rating_scale=(1, 5))\n",
        "\n",
        "# Create a Pandas DataFrame from the processed data\n",
        "df = pd.DataFrame(ratings_data, columns=['user', 'item', 'rating', 'timestamp'])\n",
        "\n",
        "# Load the dataset from the Pandas DataFrame\n",
        "data = Dataset.load_from_df(df[['user', 'item', 'rating']], reader=reader)"
      ],
      "metadata": {
        "id": "Qoxr2ug5ugek"
      },
      "execution_count": 49,
      "outputs": []
    },
    {
      "cell_type": "code",
      "source": [
        "# Split the data into a training set and a test set\n",
        "trainset, testset = train_test_split(data, test_size=0.2)"
      ],
      "metadata": {
        "id": "7RxvL0qwxnpB"
      },
      "execution_count": 50,
      "outputs": []
    },
    {
      "cell_type": "code",
      "source": [
        "# Build a user-based collaborative filtering model\n",
        "sim_options = {'name': 'cosine', 'user_based': True}\n",
        "model = KNNBasic(sim_options=sim_options)"
      ],
      "metadata": {
        "id": "3Zwv6mwHxzgh"
      },
      "execution_count": 51,
      "outputs": []
    },
    {
      "cell_type": "code",
      "source": [
        "# Train the model on the training set\n",
        "model.fit(trainset)"
      ],
      "metadata": {
        "colab": {
          "base_uri": "https://localhost:8080/"
        },
        "id": "VpDkpKWwx-tX",
        "outputId": "f5907807-f07e-4d96-a61d-cc31082ef3a9"
      },
      "execution_count": 52,
      "outputs": [
        {
          "output_type": "stream",
          "name": "stdout",
          "text": [
            "Computing the cosine similarity matrix...\n",
            "Done computing similarity matrix.\n"
          ]
        },
        {
          "output_type": "execute_result",
          "data": {
            "text/plain": [
              "<surprise.prediction_algorithms.knns.KNNBasic at 0x7e419d26a710>"
            ]
          },
          "metadata": {},
          "execution_count": 52
        }
      ]
    },
    {
      "cell_type": "code",
      "source": [
        "# Make predictions on the test set\n",
        "predictions = model.test(testset)"
      ],
      "metadata": {
        "id": "pcmPsVOoyVKK"
      },
      "execution_count": 53,
      "outputs": []
    },
    {
      "cell_type": "code",
      "source": [
        "# Evaluate the model\n",
        "rmse = accuracy.rmse(predictions)\n",
        "mae = accuracy.mae(predictions)\n",
        "\n",
        "print(f'RMSE: {rmse}')\n",
        "print(f'MAE: {mae}')"
      ],
      "metadata": {
        "colab": {
          "base_uri": "https://localhost:8080/"
        },
        "id": "7JezzlGiyZaG",
        "outputId": "df1eb4f7-6d5d-4716-d903-17a739fb6723"
      },
      "execution_count": 54,
      "outputs": [
        {
          "output_type": "stream",
          "name": "stdout",
          "text": [
            "RMSE: 0.9728\n",
            "MAE:  0.7490\n",
            "RMSE: 0.972802818191092\n",
            "MAE: 0.7489703746543493\n"
          ]
        }
      ]
    },
    {
      "cell_type": "code",
      "source": [
        "# Recommend movies for a specific user (replace 'user_id' with the actual user ID)\n",
        "user_id = '1'\n",
        "user_movies = data.build_full_trainset().ur[user_id]\n",
        "unseen_movies = [movie for movie in data.build_full_trainset().all_items() if movie not in user_movies]\n",
        "user_ratings = [model.predict(user_id, movie).est for movie in unseen_movies]"
      ],
      "metadata": {
        "id": "DyPkNj8fyery"
      },
      "execution_count": 55,
      "outputs": []
    },
    {
      "cell_type": "code",
      "source": [
        "# Get top N movie recommendations\n",
        "N = 10\n",
        "\n",
        "# Map internal indices to actual movie IDs\n",
        "trainset = data.build_full_trainset()\n",
        "movie_ids = [trainset.to_raw_iid(movie_idx) for movie_idx in unseen_movies]\n",
        "\n",
        "top_movie_indices = sorted(range(len(user_ratings)), key=lambda i: user_ratings[i], reverse=True)[:N]\n",
        "\n",
        "print(f'Recommended movies for User {user_id}:')\n",
        "for i, movie_idx in enumerate(top_movie_indices):\n",
        "    movie_id = movie_ids[movie_idx]\n",
        "    print(f'{i + 1}: Movie ID {movie_id}')\n"
      ],
      "metadata": {
        "colab": {
          "base_uri": "https://localhost:8080/"
        },
        "id": "3PdU_nnKynwh",
        "outputId": "c841b048-c321-4e05-a4b5-333158ecaa7b"
      },
      "execution_count": 57,
      "outputs": [
        {
          "output_type": "stream",
          "name": "stdout",
          "text": [
            "Recommended movies for User 1:\n",
            "1: Movie ID 1\n",
            "2: Movie ID 3\n",
            "3: Movie ID 6\n",
            "4: Movie ID 47\n",
            "5: Movie ID 50\n",
            "6: Movie ID 70\n",
            "7: Movie ID 101\n",
            "8: Movie ID 110\n",
            "9: Movie ID 151\n",
            "10: Movie ID 157\n"
          ]
        }
      ]
    }
  ]
}